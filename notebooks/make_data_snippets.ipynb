{
 "cells": [
  {
   "cell_type": "code",
   "execution_count": 2,
   "metadata": {},
   "outputs": [],
   "source": [
    "import pandas as pd\n",
    "from src import data_utils as d\n",
    "from src import file_utils as f\n",
    "from src.params import filepaths\n",
    "\n",
    "\n",
    "from glob import glob\n",
    "import os\n",
    "import uuid\n",
    "from collections import defaultdict\n"
   ]
  },
  {
   "cell_type": "code",
   "execution_count": 9,
   "metadata": {},
   "outputs": [
    {
     "data": {
      "text/plain": [
       "['../data\\\\raw\\\\ccis_original_csv\\\\ccis_original_mar16.csv',\n",
       " '../data\\\\raw\\\\ccis_original_csv\\\\ccis_original_mar17.csv',\n",
       " '../data\\\\raw\\\\ccis_original_csv\\\\ccis_original_mar18.csv',\n",
       " '../data\\\\raw\\\\ccis_original_csv\\\\ccis_original_mar19.csv',\n",
       " '../data\\\\raw\\\\ccis_original_csv\\\\ccis_original_mar20.csv',\n",
       " '../data\\\\raw\\\\ccis_original_csv\\\\ccis_original_mar21.csv',\n",
       " '../data\\\\raw\\\\ccis_original_csv\\\\ccis_original_mar22.csv',\n",
       " '../data\\\\raw\\\\census_original_csv\\\\census_original_jan17.csv',\n",
       " '../data\\\\raw\\\\census_original_csv\\\\census_original_jan18.csv',\n",
       " '../data\\\\raw\\\\census_original_csv\\\\census_original_jan19.csv',\n",
       " '../data\\\\raw\\\\census_original_csv\\\\census_original_jan20.csv',\n",
       " '../data\\\\raw\\\\census_original_csv\\\\census_original_jan21.csv',\n",
       " '../data\\\\raw\\\\census_original_csv\\\\census_original_jan22.csv',\n",
       " '../data\\\\raw\\\\ks4_original_csv\\\\ks4_original_sep15.csv',\n",
       " '../data\\\\raw\\\\ks4_original_csv\\\\ks4_original_sep17.csv',\n",
       " '../data\\\\raw\\\\ks4_original_csv\\\\ks4_original_sep18.csv',\n",
       " '../data\\\\raw\\\\ks4_original_csv\\\\ks4_original_sep19.csv',\n",
       " '../data\\\\raw\\\\ks4_original_csv\\\\ks4_original_sep20.csv',\n",
       " '../data\\\\raw\\\\secondary_schools_original.csv']"
      ]
     },
     "execution_count": 9,
     "metadata": {},
     "output_type": "execute_result"
    }
   ],
   "source": [
    "csv_files = glob(os.path.join(filepaths.RAW_DATA_DIR, \"**\", \"*.csv\")) + glob(os.path.join(filepaths.RAW_DATA_DIR, \"*.csv\"))\n",
    "csv_files"
   ]
  },
  {
   "cell_type": "code",
   "execution_count": 10,
   "metadata": {},
   "outputs": [
    {
     "data": {
      "text/plain": [
       "'..\\\\example_data\\\\raw\\\\ccis_original_csv\\\\ccis_original_mar16.csv'"
      ]
     },
     "execution_count": 10,
     "metadata": {},
     "output_type": "execute_result"
    }
   ],
   "source": [
    "def data_to_example_data(fp):\n",
    "    path = os.path.normpath(fp)\n",
    "    path_components = path.split(os.sep)\n",
    "    path_components[1] = \"example_data\"\n",
    "    return os.sep.join(path_components)\n",
    "\n",
    "data_to_example_data(csv_files[0])"
   ]
  },
  {
   "cell_type": "code",
   "execution_count": 11,
   "metadata": {},
   "outputs": [
    {
     "name": "stdout",
     "output_type": "stream",
     "text": [
      "Reading ../data\\raw\\ccis_original_csv\\ccis_original_mar16.csv\n",
      "Reading all data as str\n",
      "Reading ../data\\raw\\ccis_original_csv\\ccis_original_mar17.csv\n",
      "Reading all data as str\n",
      "Reading ../data\\raw\\ccis_original_csv\\ccis_original_mar18.csv\n",
      "Reading all data as str\n",
      "Reading ../data\\raw\\ccis_original_csv\\ccis_original_mar19.csv\n",
      "Reading all data as str\n",
      "Reading ../data\\raw\\ccis_original_csv\\ccis_original_mar20.csv\n",
      "Reading all data as str\n",
      "Reading ../data\\raw\\ccis_original_csv\\ccis_original_mar21.csv\n",
      "Reading all data as str\n",
      "Reading ../data\\raw\\ccis_original_csv\\ccis_original_mar22.csv\n",
      "Reading all data as str\n",
      "Reading ../data\\raw\\census_original_csv\\census_original_jan17.csv\n",
      "Reading all data as str\n",
      "Reading ../data\\raw\\census_original_csv\\census_original_jan18.csv\n",
      "Reading all data as str\n",
      "Reading ../data\\raw\\census_original_csv\\census_original_jan19.csv\n",
      "Reading all data as str\n",
      "Reading ../data\\raw\\census_original_csv\\census_original_jan20.csv\n",
      "Reading all data as str\n",
      "Reading ../data\\raw\\census_original_csv\\census_original_jan21.csv\n",
      "Reading all data as str\n",
      "Reading ../data\\raw\\census_original_csv\\census_original_jan22.csv\n",
      "Reading all data as str\n",
      "Reading ../data\\raw\\ks4_original_csv\\ks4_original_sep15.csv\n",
      "Reading all data as str\n",
      "Reading ../data\\raw\\ks4_original_csv\\ks4_original_sep17.csv\n",
      "Reading all data as str\n",
      "Reading ../data\\raw\\ks4_original_csv\\ks4_original_sep18.csv\n",
      "Reading all data as str\n",
      "Reading ../data\\raw\\ks4_original_csv\\ks4_original_sep19.csv\n",
      "Reading all data as str\n",
      "Reading ../data\\raw\\ks4_original_csv\\ks4_original_sep20.csv\n",
      "Reading all data as str\n",
      "Reading ../data\\raw\\secondary_schools_original.csv\n",
      "Reading all data as str\n"
     ]
    }
   ],
   "source": [
    "for fp in csv_files:\n",
    "    df = d.load_csv(fp, read_as_str=True)\n",
    "    df_sample = df.head()\n",
    "    new_fp = f.safe_open_file(data_to_example_data(fp))\n",
    "    df_sample.to_csv(new_fp, index=False)"
   ]
  },
  {
   "cell_type": "code",
   "execution_count": null,
   "metadata": {},
   "outputs": [],
   "source": []
  }
 ],
 "metadata": {
  "kernelspec": {
   "display_name": "Python 3.10.6 ('venv': venv)",
   "language": "python",
   "name": "python3"
  },
  "language_info": {
   "codemirror_mode": {
    "name": "ipython",
    "version": 3
   },
   "file_extension": ".py",
   "mimetype": "text/x-python",
   "name": "python",
   "nbconvert_exporter": "python",
   "pygments_lexer": "ipython3",
   "version": "3.10.6"
  },
  "vscode": {
   "interpreter": {
    "hash": "5a418b21f0d17c2ec31989708a1f57787df65983192566008e8e83f18903e4b0"
   }
  }
 },
 "nbformat": 4,
 "nbformat_minor": 2
}
