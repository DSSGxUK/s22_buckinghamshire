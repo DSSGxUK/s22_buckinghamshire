{
 "cells": [
  {
   "cell_type": "code",
   "execution_count": 3,
   "metadata": {},
   "outputs": [],
   "source": [
    "import pandas as pd\n",
    "from src import data_utils as d\n",
    "from src.params import filepaths\n",
    "from src import \n",
    "\n",
    "from glob import glob\n",
    "import os"
   ]
  },
  {
   "cell_type": "code",
   "execution_count": 4,
   "metadata": {},
   "outputs": [
    {
     "data": {
      "text/plain": [
       "['../data\\\\raw\\\\attendance_original_csv\\\\attendance_original_jan15.csv',\n",
       " '../data\\\\raw\\\\attendance_original_csv\\\\attendance_original_jan16.csv',\n",
       " '../data\\\\raw\\\\attendance_original_csv\\\\attendance_original_jan17.csv',\n",
       " '../data\\\\raw\\\\attendance_original_csv\\\\attendance_original_jan18.csv',\n",
       " '../data\\\\raw\\\\attendance_original_csv\\\\attendance_original_jan19.csv',\n",
       " '../data\\\\raw\\\\attendance_original_csv\\\\attendance_original_jan20.csv',\n",
       " '../data\\\\raw\\\\attendance_original_csv\\\\attendance_original_jan21.csv',\n",
       " '../data\\\\raw\\\\attendance_original_csv\\\\attendance_original_jan22.csv',\n",
       " '../data\\\\raw\\\\attendance_original_csv\\\\attendance_original_may15.csv',\n",
       " '../data\\\\raw\\\\attendance_original_csv\\\\attendance_original_may16.csv',\n",
       " '../data\\\\raw\\\\attendance_original_csv\\\\attendance_original_may17.csv',\n",
       " '../data\\\\raw\\\\attendance_original_csv\\\\attendance_original_may18.csv',\n",
       " '../data\\\\raw\\\\attendance_original_csv\\\\attendance_original_may19.csv',\n",
       " '../data\\\\raw\\\\attendance_original_csv\\\\attendance_original_may21.csv',\n",
       " '../data\\\\raw\\\\attendance_original_csv\\\\attendance_original_may22.csv',\n",
       " '../data\\\\raw\\\\attendance_original_csv\\\\attendance_original_oct14.csv',\n",
       " '../data\\\\raw\\\\attendance_original_csv\\\\attendance_original_oct15.csv',\n",
       " '../data\\\\raw\\\\attendance_original_csv\\\\attendance_original_oct16.csv',\n",
       " '../data\\\\raw\\\\attendance_original_csv\\\\attendance_original_oct17.csv',\n",
       " '../data\\\\raw\\\\attendance_original_csv\\\\attendance_original_oct18.csv',\n",
       " '../data\\\\raw\\\\attendance_original_csv\\\\attendance_original_oct19.csv',\n",
       " '../data\\\\raw\\\\attendance_original_csv\\\\attendance_original_oct20.csv',\n",
       " '../data\\\\raw\\\\attendance_original_csv\\\\attendance_original_oct21.csv',\n",
       " '../data\\\\raw\\\\ccis_original_csv\\\\NEET_MI_Feb16_with_YPID_to_Warwick.csv',\n",
       " '../data\\\\raw\\\\ccis_original_csv\\\\NEET_MI_Feb17_with_YPID_to_Warwick.csv',\n",
       " '../data\\\\raw\\\\ccis_original_csv\\\\NEET_MI_Feb18_with_YPID_to_Warwick.csv',\n",
       " '../data\\\\raw\\\\ccis_original_csv\\\\NEET_MI_Feb19_with_YPID_to_Warwick.csv',\n",
       " '../data\\\\raw\\\\ccis_original_csv\\\\NEET_MI_Feb20_with_YPID_to_Warwick.csv',\n",
       " '../data\\\\raw\\\\ccis_original_csv\\\\NEET_MI_Feb21_with_YPID_to_Warwick.csv',\n",
       " '../data\\\\raw\\\\ccis_original_csv\\\\NEET_MI_Feb22_with_YPID_to_Warwick.csv',\n",
       " '../data\\\\raw\\\\census_original_csv\\\\school_census_attendance_Aut21_Hard_Coded.csv',\n",
       " '../data\\\\raw\\\\census_original_csv\\\\school_census_attendance_Spr21_Hard_Coded.csv',\n",
       " '../data\\\\raw\\\\census_original_csv\\\\school_census_attendance_Sum21_Hard_Coded.csv',\n",
       " '../data\\\\raw\\\\census_original_csv\\\\school_census_context_Jan17_Hard_Coded.csv',\n",
       " '../data\\\\raw\\\\census_original_csv\\\\school_census_context_Jan18_Hard_Coded.csv',\n",
       " '../data\\\\raw\\\\census_original_csv\\\\school_census_context_Jan19_Hard_Coded.csv',\n",
       " '../data\\\\raw\\\\census_original_csv\\\\school_census_context_Jan20_Hard_Coded.csv',\n",
       " '../data\\\\raw\\\\census_original_csv\\\\school_census_context_Jan21_Hard_Coded.csv',\n",
       " '../data\\\\raw\\\\census_original_csv\\\\school_census_context_Jan22_Hard_Coded.csv',\n",
       " '../data\\\\raw\\\\ks4_original_csv\\\\KS4_2015_Hard_Coded.csv',\n",
       " '../data\\\\raw\\\\ks4_original_csv\\\\KS4_2016_Hard_Coded.csv',\n",
       " '../data\\\\raw\\\\ks4_original_csv\\\\KS4_2017_Hard_Coded.csv',\n",
       " '../data\\\\raw\\\\ks4_original_csv\\\\KS4_2018_Hard_Coded.csv',\n",
       " '../data\\\\raw\\\\ks4_original_csv\\\\KS4_2019_Hard_Coded.csv']"
      ]
     },
     "execution_count": 4,
     "metadata": {},
     "output_type": "execute_result"
    }
   ],
   "source": [
    "csv_files = glob(os.path.join(filepaths.RAW_DATA_DIR, \"**\", \"*.csv\"))\n",
    "csv_files"
   ]
  },
  {
   "cell_type": "code",
   "execution_count": 6,
   "metadata": {},
   "outputs": [
    {
     "name": "stdout",
     "output_type": "stream",
     "text": [
      "Reading ../data\\raw\\attendance_original_csv\\attendance_original_jan15.csv\n",
      "Converting pandas dtypes and using pd.NA instead of np.nan\n",
      "Reading ../data\\raw\\attendance_original_csv\\attendance_original_jan16.csv\n",
      "Converting pandas dtypes and using pd.NA instead of np.nan\n",
      "Reading ../data\\raw\\attendance_original_csv\\attendance_original_jan17.csv\n",
      "Converting pandas dtypes and using pd.NA instead of np.nan\n",
      "Reading ../data\\raw\\attendance_original_csv\\attendance_original_jan18.csv\n",
      "Converting pandas dtypes and using pd.NA instead of np.nan\n",
      "Reading ../data\\raw\\attendance_original_csv\\attendance_original_jan19.csv\n",
      "Converting pandas dtypes and using pd.NA instead of np.nan\n",
      "Reading ../data\\raw\\attendance_original_csv\\attendance_original_jan20.csv\n",
      "Converting pandas dtypes and using pd.NA instead of np.nan\n",
      "Reading ../data\\raw\\attendance_original_csv\\attendance_original_jan21.csv\n",
      "Converting pandas dtypes and using pd.NA instead of np.nan\n",
      "Reading ../data\\raw\\attendance_original_csv\\attendance_original_jan22.csv\n",
      "Converting pandas dtypes and using pd.NA instead of np.nan\n",
      "Reading ../data\\raw\\attendance_original_csv\\attendance_original_may15.csv\n",
      "Converting pandas dtypes and using pd.NA instead of np.nan\n",
      "Reading ../data\\raw\\attendance_original_csv\\attendance_original_may16.csv\n",
      "Converting pandas dtypes and using pd.NA instead of np.nan\n",
      "Reading ../data\\raw\\attendance_original_csv\\attendance_original_may17.csv\n",
      "Converting pandas dtypes and using pd.NA instead of np.nan\n",
      "Reading ../data\\raw\\attendance_original_csv\\attendance_original_may18.csv\n",
      "Converting pandas dtypes and using pd.NA instead of np.nan\n",
      "Reading ../data\\raw\\attendance_original_csv\\attendance_original_may19.csv\n",
      "Converting pandas dtypes and using pd.NA instead of np.nan\n",
      "Reading ../data\\raw\\attendance_original_csv\\attendance_original_may21.csv\n",
      "Converting pandas dtypes and using pd.NA instead of np.nan\n",
      "Reading ../data\\raw\\attendance_original_csv\\attendance_original_may22.csv\n",
      "Converting pandas dtypes and using pd.NA instead of np.nan\n",
      "Reading ../data\\raw\\attendance_original_csv\\attendance_original_oct14.csv\n",
      "Converting pandas dtypes and using pd.NA instead of np.nan\n",
      "Reading ../data\\raw\\attendance_original_csv\\attendance_original_oct15.csv\n",
      "Converting pandas dtypes and using pd.NA instead of np.nan\n",
      "Reading ../data\\raw\\attendance_original_csv\\attendance_original_oct16.csv\n",
      "Converting pandas dtypes and using pd.NA instead of np.nan\n",
      "Reading ../data\\raw\\attendance_original_csv\\attendance_original_oct17.csv\n",
      "Converting pandas dtypes and using pd.NA instead of np.nan\n",
      "Reading ../data\\raw\\attendance_original_csv\\attendance_original_oct18.csv\n",
      "Converting pandas dtypes and using pd.NA instead of np.nan\n",
      "Reading ../data\\raw\\attendance_original_csv\\attendance_original_oct19.csv\n",
      "Converting pandas dtypes and using pd.NA instead of np.nan\n",
      "Reading ../data\\raw\\attendance_original_csv\\attendance_original_oct20.csv\n",
      "Converting pandas dtypes and using pd.NA instead of np.nan\n",
      "Reading ../data\\raw\\attendance_original_csv\\attendance_original_oct21.csv\n",
      "Converting pandas dtypes and using pd.NA instead of np.nan\n",
      "Reading ../data\\raw\\ccis_original_csv\\NEET_MI_Feb16_with_YPID_to_Warwick.csv\n",
      "Converting pandas dtypes and using pd.NA instead of np.nan\n",
      "Reading ../data\\raw\\ccis_original_csv\\NEET_MI_Feb17_with_YPID_to_Warwick.csv\n",
      "Converting pandas dtypes and using pd.NA instead of np.nan\n",
      "Reading ../data\\raw\\ccis_original_csv\\NEET_MI_Feb18_with_YPID_to_Warwick.csv\n",
      "Converting pandas dtypes and using pd.NA instead of np.nan\n",
      "Reading ../data\\raw\\ccis_original_csv\\NEET_MI_Feb19_with_YPID_to_Warwick.csv\n",
      "Converting pandas dtypes and using pd.NA instead of np.nan\n",
      "Reading ../data\\raw\\ccis_original_csv\\NEET_MI_Feb20_with_YPID_to_Warwick.csv\n",
      "Converting pandas dtypes and using pd.NA instead of np.nan\n",
      "Reading ../data\\raw\\ccis_original_csv\\NEET_MI_Feb21_with_YPID_to_Warwick.csv\n",
      "Converting pandas dtypes and using pd.NA instead of np.nan\n",
      "Reading ../data\\raw\\ccis_original_csv\\NEET_MI_Feb22_with_YPID_to_Warwick.csv\n",
      "Converting pandas dtypes and using pd.NA instead of np.nan\n",
      "Reading ../data\\raw\\census_original_csv\\school_census_attendance_Aut21_Hard_Coded.csv\n",
      "Converting pandas dtypes and using pd.NA instead of np.nan\n",
      "Reading ../data\\raw\\census_original_csv\\school_census_attendance_Spr21_Hard_Coded.csv\n",
      "Converting pandas dtypes and using pd.NA instead of np.nan\n",
      "Reading ../data\\raw\\census_original_csv\\school_census_attendance_Sum21_Hard_Coded.csv\n",
      "Converting pandas dtypes and using pd.NA instead of np.nan\n",
      "Reading ../data\\raw\\census_original_csv\\school_census_context_Jan17_Hard_Coded.csv\n",
      "Converting pandas dtypes and using pd.NA instead of np.nan\n",
      "Reading ../data\\raw\\census_original_csv\\school_census_context_Jan18_Hard_Coded.csv\n",
      "Converting pandas dtypes and using pd.NA instead of np.nan\n",
      "Reading ../data\\raw\\census_original_csv\\school_census_context_Jan19_Hard_Coded.csv\n",
      "Converting pandas dtypes and using pd.NA instead of np.nan\n",
      "Reading ../data\\raw\\census_original_csv\\school_census_context_Jan20_Hard_Coded.csv\n",
      "Converting pandas dtypes and using pd.NA instead of np.nan\n",
      "Reading ../data\\raw\\census_original_csv\\school_census_context_Jan21_Hard_Coded.csv\n",
      "Converting pandas dtypes and using pd.NA instead of np.nan\n",
      "Reading ../data\\raw\\census_original_csv\\school_census_context_Jan22_Hard_Coded.csv\n",
      "Converting pandas dtypes and using pd.NA instead of np.nan\n",
      "Reading ../data\\raw\\ks4_original_csv\\KS4_2015_Hard_Coded.csv\n",
      "Converting pandas dtypes and using pd.NA instead of np.nan\n",
      "Reading ../data\\raw\\ks4_original_csv\\KS4_2016_Hard_Coded.csv\n",
      "Converting pandas dtypes and using pd.NA instead of np.nan\n",
      "Reading ../data\\raw\\ks4_original_csv\\KS4_2017_Hard_Coded.csv\n",
      "Converting pandas dtypes and using pd.NA instead of np.nan\n",
      "Reading ../data\\raw\\ks4_original_csv\\KS4_2018_Hard_Coded.csv\n",
      "Converting pandas dtypes and using pd.NA instead of np.nan\n",
      "Reading ../data\\raw\\ks4_original_csv\\KS4_2019_Hard_Coded.csv\n",
      "Converting pandas dtypes and using pd.NA instead of np.nan\n"
     ]
    }
   ],
   "source": [
    "for fp in csv_files:\n",
    "    df = d.load_csv(fp, convert_dtypes=True)\n",
    "    df = df[[col for col in df.columns if not col.startswith(\"Unnamed\")]]\n",
    "    fcols = df.select_dtypes(\"float\").columns  # returns columns based on dtype\\\n",
    "    for col in fcols:\n",
    "        df[col] = df[col].astype(pd.Int16Dtype())\n",
    "    df.to_csv(fp, index=False)\n"
   ]
  },
  {
   "cell_type": "code",
   "execution_count": null,
   "metadata": {},
   "outputs": [],
   "source": [
    "for fp in csv_files:\n",
    "    df = d.load_csv(fp, convert_dtypes=True)\n",
    "    df = df[[col for col in df.columns if not col.startswith(\"Unnamed\")]]\n",
    "    fcols = df.select_dtypes(\"float\").columns  # returns columns based on dtype\\\n",
    "    for col in fcols:\n",
    "        df[col] = df[col].astype(pd.Int16Dtype())\n",
    "        \n",
    "    df.to_csv(fp, index=False)"
   ]
  },
  {
   "cell_type": "code",
   "execution_count": null,
   "metadata": {},
   "outputs": [],
   "source": []
  }
 ],
 "metadata": {
  "kernelspec": {
   "display_name": "Python 3.10.6 ('venv': venv)",
   "language": "python",
   "name": "python3"
  },
  "language_info": {
   "codemirror_mode": {
    "name": "ipython",
    "version": 3
   },
   "file_extension": ".py",
   "mimetype": "text/x-python",
   "name": "python",
   "nbconvert_exporter": "python",
   "pygments_lexer": "ipython3",
   "version": "3.10.6"
  },
  "orig_nbformat": 4,
  "vscode": {
   "interpreter": {
    "hash": "5a418b21f0d17c2ec31989708a1f57787df65983192566008e8e83f18903e4b0"
   }
  }
 },
 "nbformat": 4,
 "nbformat_minor": 2
}
