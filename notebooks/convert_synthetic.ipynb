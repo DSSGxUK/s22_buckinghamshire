{
 "cells": [
  {
   "cell_type": "code",
   "execution_count": 15,
   "metadata": {},
   "outputs": [],
   "source": [
    "import pandas as pd\n",
    "from src import data_utils as d\n",
    "from src.params import filepaths\n",
    "\n",
    "\n",
    "from glob import glob\n",
    "import os\n",
    "import uuid\n",
    "from collections import defaultdict\n"
   ]
  },
  {
   "cell_type": "code",
   "execution_count": 16,
   "metadata": {},
   "outputs": [
    {
     "data": {
      "text/plain": [
       "['../data\\\\raw\\\\attendance_original_csv\\\\attendance_original_jan15.csv',\n",
       " '../data\\\\raw\\\\attendance_original_csv\\\\attendance_original_jan16.csv',\n",
       " '../data\\\\raw\\\\attendance_original_csv\\\\attendance_original_jan17.csv',\n",
       " '../data\\\\raw\\\\attendance_original_csv\\\\attendance_original_jan18.csv',\n",
       " '../data\\\\raw\\\\attendance_original_csv\\\\attendance_original_jan19.csv',\n",
       " '../data\\\\raw\\\\attendance_original_csv\\\\attendance_original_jan20.csv',\n",
       " '../data\\\\raw\\\\attendance_original_csv\\\\attendance_original_jan21.csv',\n",
       " '../data\\\\raw\\\\attendance_original_csv\\\\attendance_original_jan22.csv',\n",
       " '../data\\\\raw\\\\attendance_original_csv\\\\attendance_original_jan23.csv',\n",
       " '../data\\\\raw\\\\attendance_original_csv\\\\attendance_original_may15.csv',\n",
       " '../data\\\\raw\\\\attendance_original_csv\\\\attendance_original_may16.csv',\n",
       " '../data\\\\raw\\\\attendance_original_csv\\\\attendance_original_may17.csv',\n",
       " '../data\\\\raw\\\\attendance_original_csv\\\\attendance_original_may18.csv',\n",
       " '../data\\\\raw\\\\attendance_original_csv\\\\attendance_original_may19.csv',\n",
       " '../data\\\\raw\\\\attendance_original_csv\\\\attendance_original_may21.csv',\n",
       " '../data\\\\raw\\\\attendance_original_csv\\\\attendance_original_may22.csv',\n",
       " '../data\\\\raw\\\\attendance_original_csv\\\\attendance_original_oct14.csv',\n",
       " '../data\\\\raw\\\\attendance_original_csv\\\\attendance_original_oct15.csv',\n",
       " '../data\\\\raw\\\\attendance_original_csv\\\\attendance_original_oct16.csv',\n",
       " '../data\\\\raw\\\\attendance_original_csv\\\\attendance_original_oct17.csv',\n",
       " '../data\\\\raw\\\\attendance_original_csv\\\\attendance_original_oct18.csv',\n",
       " '../data\\\\raw\\\\attendance_original_csv\\\\attendance_original_oct19.csv',\n",
       " '../data\\\\raw\\\\attendance_original_csv\\\\attendance_original_oct20.csv',\n",
       " '../data\\\\raw\\\\attendance_original_csv\\\\attendance_original_oct21.csv',\n",
       " '../data\\\\raw\\\\ccis_original_csv\\\\ccis_original_mar16.csv',\n",
       " '../data\\\\raw\\\\ccis_original_csv\\\\ccis_original_mar17.csv',\n",
       " '../data\\\\raw\\\\ccis_original_csv\\\\ccis_original_mar18.csv',\n",
       " '../data\\\\raw\\\\ccis_original_csv\\\\ccis_original_mar19.csv',\n",
       " '../data\\\\raw\\\\ccis_original_csv\\\\ccis_original_mar20.csv',\n",
       " '../data\\\\raw\\\\ccis_original_csv\\\\ccis_original_mar21.csv',\n",
       " '../data\\\\raw\\\\ccis_original_csv\\\\ccis_original_mar22.csv',\n",
       " '../data\\\\raw\\\\census_original_csv\\\\census_original_jan17.csv',\n",
       " '../data\\\\raw\\\\census_original_csv\\\\census_original_jan18.csv',\n",
       " '../data\\\\raw\\\\census_original_csv\\\\census_original_jan19.csv',\n",
       " '../data\\\\raw\\\\census_original_csv\\\\census_original_jan20.csv',\n",
       " '../data\\\\raw\\\\census_original_csv\\\\census_original_jan21.csv',\n",
       " '../data\\\\raw\\\\census_original_csv\\\\census_original_jan22.csv',\n",
       " '../data\\\\raw\\\\ks4_original_csv\\\\ks4_original_sep15.csv',\n",
       " '../data\\\\raw\\\\ks4_original_csv\\\\ks4_original_sep17.csv',\n",
       " '../data\\\\raw\\\\ks4_original_csv\\\\ks4_original_sep18.csv',\n",
       " '../data\\\\raw\\\\ks4_original_csv\\\\ks4_original_sep19.csv',\n",
       " '../data\\\\raw\\\\ks4_original_csv\\\\ks4_original_sep20.csv']"
      ]
     },
     "execution_count": 16,
     "metadata": {},
     "output_type": "execute_result"
    }
   ],
   "source": [
    "csv_files = glob(os.path.join(filepaths.RAW_DATA_DIR, \"**\", \"*.csv\"))\n",
    "csv_files"
   ]
  },
  {
   "cell_type": "code",
   "execution_count": 17,
   "metadata": {},
   "outputs": [
    {
     "data": {
      "text/plain": [
       "'a23b3c1e-261b-45ac-9323-46261ac82cbc'"
      ]
     },
     "execution_count": 17,
     "metadata": {},
     "output_type": "execute_result"
    }
   ],
   "source": [
    "import uuid\n",
    "str(uuid.uuid4())"
   ]
  },
  {
   "cell_type": "code",
   "execution_count": 19,
   "metadata": {},
   "outputs": [
    {
     "name": "stdout",
     "output_type": "stream",
     "text": [
      "Reading ../data\\raw\\attendance_original_csv\\attendance_original_jan15.csv\n",
      "Converting pandas dtypes and using pd.NA instead of np.nan\n",
      "Reading ../data\\raw\\attendance_original_csv\\attendance_original_jan16.csv\n",
      "Converting pandas dtypes and using pd.NA instead of np.nan\n",
      "Reading ../data\\raw\\attendance_original_csv\\attendance_original_jan17.csv\n",
      "Converting pandas dtypes and using pd.NA instead of np.nan\n",
      "Reading ../data\\raw\\attendance_original_csv\\attendance_original_jan18.csv\n",
      "Converting pandas dtypes and using pd.NA instead of np.nan\n",
      "Reading ../data\\raw\\attendance_original_csv\\attendance_original_jan19.csv\n",
      "Converting pandas dtypes and using pd.NA instead of np.nan\n",
      "Reading ../data\\raw\\attendance_original_csv\\attendance_original_jan20.csv\n",
      "Converting pandas dtypes and using pd.NA instead of np.nan\n",
      "Reading ../data\\raw\\attendance_original_csv\\attendance_original_jan21.csv\n",
      "Converting pandas dtypes and using pd.NA instead of np.nan\n",
      "Reading ../data\\raw\\attendance_original_csv\\attendance_original_jan22.csv\n",
      "Converting pandas dtypes and using pd.NA instead of np.nan\n",
      "Reading ../data\\raw\\attendance_original_csv\\attendance_original_jan23.csv\n",
      "Converting pandas dtypes and using pd.NA instead of np.nan\n",
      "Reading ../data\\raw\\attendance_original_csv\\attendance_original_may15.csv\n",
      "Converting pandas dtypes and using pd.NA instead of np.nan\n",
      "Reading ../data\\raw\\attendance_original_csv\\attendance_original_may16.csv\n",
      "Converting pandas dtypes and using pd.NA instead of np.nan\n",
      "Reading ../data\\raw\\attendance_original_csv\\attendance_original_may17.csv\n",
      "Converting pandas dtypes and using pd.NA instead of np.nan\n",
      "Reading ../data\\raw\\attendance_original_csv\\attendance_original_may18.csv\n",
      "Converting pandas dtypes and using pd.NA instead of np.nan\n",
      "Reading ../data\\raw\\attendance_original_csv\\attendance_original_may19.csv\n",
      "Converting pandas dtypes and using pd.NA instead of np.nan\n",
      "Reading ../data\\raw\\attendance_original_csv\\attendance_original_may21.csv\n",
      "Converting pandas dtypes and using pd.NA instead of np.nan\n",
      "Reading ../data\\raw\\attendance_original_csv\\attendance_original_may22.csv\n",
      "Converting pandas dtypes and using pd.NA instead of np.nan\n",
      "Reading ../data\\raw\\attendance_original_csv\\attendance_original_oct14.csv\n",
      "Converting pandas dtypes and using pd.NA instead of np.nan\n",
      "Reading ../data\\raw\\attendance_original_csv\\attendance_original_oct15.csv\n",
      "Converting pandas dtypes and using pd.NA instead of np.nan\n",
      "Reading ../data\\raw\\attendance_original_csv\\attendance_original_oct16.csv\n",
      "Converting pandas dtypes and using pd.NA instead of np.nan\n",
      "Reading ../data\\raw\\attendance_original_csv\\attendance_original_oct17.csv\n",
      "Converting pandas dtypes and using pd.NA instead of np.nan\n",
      "Reading ../data\\raw\\attendance_original_csv\\attendance_original_oct18.csv\n",
      "Converting pandas dtypes and using pd.NA instead of np.nan\n",
      "Reading ../data\\raw\\attendance_original_csv\\attendance_original_oct19.csv\n",
      "Converting pandas dtypes and using pd.NA instead of np.nan\n",
      "Reading ../data\\raw\\attendance_original_csv\\attendance_original_oct20.csv\n",
      "Converting pandas dtypes and using pd.NA instead of np.nan\n",
      "Reading ../data\\raw\\attendance_original_csv\\attendance_original_oct21.csv\n",
      "Converting pandas dtypes and using pd.NA instead of np.nan\n",
      "Reading ../data\\raw\\ccis_original_csv\\ccis_original_mar16.csv\n",
      "Converting pandas dtypes and using pd.NA instead of np.nan\n",
      "Reading ../data\\raw\\ccis_original_csv\\ccis_original_mar17.csv\n",
      "Converting pandas dtypes and using pd.NA instead of np.nan\n",
      "Reading ../data\\raw\\ccis_original_csv\\ccis_original_mar18.csv\n",
      "Converting pandas dtypes and using pd.NA instead of np.nan\n",
      "Reading ../data\\raw\\ccis_original_csv\\ccis_original_mar19.csv\n",
      "Converting pandas dtypes and using pd.NA instead of np.nan\n",
      "Reading ../data\\raw\\ccis_original_csv\\ccis_original_mar20.csv\n",
      "Converting pandas dtypes and using pd.NA instead of np.nan\n",
      "Reading ../data\\raw\\ccis_original_csv\\ccis_original_mar21.csv\n",
      "Converting pandas dtypes and using pd.NA instead of np.nan\n",
      "Reading ../data\\raw\\ccis_original_csv\\ccis_original_mar22.csv\n",
      "Converting pandas dtypes and using pd.NA instead of np.nan\n",
      "Reading ../data\\raw\\census_original_csv\\census_original_jan17.csv\n",
      "Converting pandas dtypes and using pd.NA instead of np.nan\n",
      "Reading ../data\\raw\\census_original_csv\\census_original_jan18.csv\n",
      "Converting pandas dtypes and using pd.NA instead of np.nan\n",
      "Reading ../data\\raw\\census_original_csv\\census_original_jan19.csv\n",
      "Converting pandas dtypes and using pd.NA instead of np.nan\n",
      "Reading ../data\\raw\\census_original_csv\\census_original_jan20.csv\n",
      "Converting pandas dtypes and using pd.NA instead of np.nan\n",
      "Reading ../data\\raw\\census_original_csv\\census_original_jan21.csv\n",
      "Converting pandas dtypes and using pd.NA instead of np.nan\n",
      "Reading ../data\\raw\\census_original_csv\\census_original_jan22.csv\n",
      "Converting pandas dtypes and using pd.NA instead of np.nan\n",
      "Reading ../data\\raw\\ks4_original_csv\\ks4_original_sep15.csv\n",
      "Converting pandas dtypes and using pd.NA instead of np.nan\n",
      "Reading ../data\\raw\\ks4_original_csv\\ks4_original_sep17.csv\n",
      "Converting pandas dtypes and using pd.NA instead of np.nan\n",
      "Reading ../data\\raw\\ks4_original_csv\\ks4_original_sep18.csv\n",
      "Converting pandas dtypes and using pd.NA instead of np.nan\n",
      "Reading ../data\\raw\\ks4_original_csv\\ks4_original_sep19.csv\n",
      "Converting pandas dtypes and using pd.NA instead of np.nan\n",
      "Reading ../data\\raw\\ks4_original_csv\\ks4_original_sep20.csv\n",
      "Converting pandas dtypes and using pd.NA instead of np.nan\n"
     ]
    }
   ],
   "source": [
    "from collections import defaultdict\n",
    "\n",
    "sensitive_columns = [\"YoungPersonsID\", \"UniquePupilNumber\", \"UPN\"]\n",
    "sensitive_mapping = defaultdict(lambda: str(uuid.uuid4()))\n",
    "def make_replacer(mapping):\n",
    "    def replacer(val):\n",
    "        if d.isna_scalar(val):\n",
    "            return val\n",
    "        return mapping[val]\n",
    "    return replacer\n",
    "replacer = make_replacer(sensitive_mapping)\n",
    "\n",
    "for fp in csv_files:\n",
    "    df = d.load_csv(fp, convert_dtypes=True)\n",
    "    df = df[[col for col in df.columns if not col.startswith(\"Unnamed\")]]\n",
    "    fcols = df.select_dtypes(\"float\").columns  # returns columns based on dtype\\\n",
    "    for col in fcols:\n",
    "        df[col] = df[col].astype(pd.Int16Dtype())\n",
    "    for col in sensitive_columns:\n",
    "        if col in df.columns:\n",
    "            df[col] = df[col].apply(replacer)\n",
    "            \n",
    "    df.to_csv(fp, index=False)\n"
   ]
  },
  {
   "cell_type": "code",
   "execution_count": null,
   "metadata": {},
   "outputs": [],
   "source": []
  }
 ],
 "metadata": {
  "kernelspec": {
   "display_name": "Python 3.10.6 ('venv': venv)",
   "language": "python",
   "name": "python3"
  },
  "language_info": {
   "codemirror_mode": {
    "name": "ipython",
    "version": 3
   },
   "file_extension": ".py",
   "mimetype": "text/x-python",
   "name": "python",
   "nbconvert_exporter": "python",
   "pygments_lexer": "ipython3",
   "version": "3.10.6"
  },
  "vscode": {
   "interpreter": {
    "hash": "5a418b21f0d17c2ec31989708a1f57787df65983192566008e8e83f18903e4b0"
   }
  }
 },
 "nbformat": 4,
 "nbformat_minor": 2
}
