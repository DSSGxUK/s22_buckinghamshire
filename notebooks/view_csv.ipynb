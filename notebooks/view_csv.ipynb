{
 "cells": [
  {
   "cell_type": "code",
   "execution_count": 1,
   "metadata": {},
   "outputs": [],
   "source": [
    "import pandas as pd\n",
    "from src import data_utils as d"
   ]
  },
  {
   "cell_type": "code",
   "execution_count": 3,
   "metadata": {},
   "outputs": [
    {
     "name": "stdout",
     "output_type": "stream",
     "text": [
      "Reading ../data/interim/neet_annotated.csv\n"
     ]
    },
    {
     "name": "stderr",
     "output_type": "stream",
     "text": [
      "c:\\users\\abhmu\\s22_buckinghamshire\\src\\data_utils.py:210: DtypeWarning: Columns (10,11,37,50,54) have mixed types. Specify dtype option on import or set low_memory=False.\n",
      "  df = pd.read_csv(fp, keep_default_na=False, na_values=na_vals)\n"
     ]
    },
    {
     "name": "stdout",
     "output_type": "stream",
     "text": [
      "Replacing ['', '#VALUE!', 'nan'] with np.nan\n",
      "Converting pandas dtypes and using pd.NA instead of np.nan\n",
      "Downcasting dataframe to save space\n"
     ]
    }
   ],
   "source": [
    "df = d.load_csv(\"../data/interim/neet_annotated.csv\", convert_dtypes=True, use_na=True, downcast=True)"
   ]
  },
  {
   "cell_type": "code",
   "execution_count": 4,
   "metadata": {},
   "outputs": [
    {
     "name": "stdout",
     "output_type": "stream",
     "text": [
      "<class 'pandas.core.frame.DataFrame'>\n",
      "RangeIndex: 5497065 entries, 0 to 5497064\n",
      "Data columns (total 71 columns):\n",
      " #   Column                         Non-Null Count    Dtype \n",
      "---  ------                         --------------    ----- \n",
      " 0   la_establishment_number        61839 non-null    Int32 \n",
      " 1   establishment_number           5312811 non-null  string\n",
      " 2   establishment_name             4268203 non-null  string\n",
      " 3   establishment_type             4504872 non-null  string\n",
      " 4   establishment_status           4594643 non-null  string\n",
      " 5   establishment_area             4831312 non-null  string\n",
      " 6   establishment_postcode         3958085 non-null  string\n",
      " 7   establishment_electoral_wards  5435226 non-null  string\n",
      " 8   database_id                    5497065 non-null  Int16 \n",
      " 9   lea_code                       5497065 non-null  Int16 \n",
      " 10  date_of_send                   5497065 non-null  object\n",
      " 11  period_end                     5497065 non-null  object\n",
      " 12  supplier_name                  5497065 non-null  string\n",
      " 13  supplier_xml_version           5497065 non-null  string\n",
      " 14  xml_schema_version             5497065 non-null  Int8  \n",
      " 15  young_persons_id               5497065 non-null  Int64 \n",
      " 16  cohort_status                  5497065 non-null  string\n",
      " 17  given_name                     0 non-null        Int8  \n",
      " 18  middle_name                    0 non-null        Int8  \n",
      " 19  family_name                    0 non-null        Int8  \n",
      " 20  address_line1                  0 non-null        Int8  \n",
      " 21  address_line2                  0 non-null        Int8  \n",
      " 22  address_line3                  0 non-null        Int8  \n",
      " 23  address_line4                  0 non-null        Int8  \n",
      " 24  town                           0 non-null        Int8  \n",
      " 25  county                         0 non-null        Int8  \n",
      " 26  postcode                       0 non-null        Int8  \n",
      " 27  gender                         5497065 non-null  string\n",
      " 28  ethnicity                      5497065 non-null  string\n",
      " 29  lead_lea                       5497065 non-null  Int16 \n",
      " 30  educated_lea                   2726279 non-null  Int16 \n",
      " 31  lea_code_at_year11             5024823 non-null  Int16 \n",
      " 32  unique_learner_no              0 non-null        Int8  \n",
      " 33  upn                            4914344 non-null  string\n",
      " 34  guarantee_status_indicator     5444409 non-null  string\n",
      " 35  previous_ypid_identifier       0 non-null        Int8  \n",
      " 36  youth_contract_indicator       4839920 non-null  Int8  \n",
      " 37  youth_contract_start_date      216142 non-null   string\n",
      " 38  transferred_to_la_code         0 non-null        Int8  \n",
      " 39  guarantee_status               0 non-null        Int8  \n",
      " 40  lea_code2                      0 non-null        Int8  \n",
      " 41  guarantee_status3              0 non-null        Int8  \n",
      " 42  lea_code4                      0 non-null        Int8  \n",
      " 43  level_of_need_code             5497065 non-null  Int8  \n",
      " 44  send_flag                      5497065 non-null  Int8  \n",
      " 45  characteristic_code            15391 non-null    Int16 \n",
      " 46  start_date                     5497065 non-null  string\n",
      " 47  activity_code                  5497065 non-null  Int16 \n",
      " 48  date_verified                  5497065 non-null  string\n",
      " 49  date_ascertained               5497065 non-null  string\n",
      " 50  review_date                    758858 non-null   string\n",
      " 51  due_to_lapse_date              4687116 non-null  string\n",
      " 52  currency_lapsed                5497065 non-null  Int8  \n",
      " 53  uk_provider_reference_number   0 non-null        Int8  \n",
      " 54  neet_start_date                655656 non-null   string\n",
      " 55  predicted_end_date             4015380 non-null  string\n",
      " 56  intended_destination_yr11      5024825 non-null  Int16 \n",
      " 57  data_date                      5497065 non-null  string\n",
      " 58  sen_support_flag               517470 non-null   Int8  \n",
      " 59  ccis_period_end                5497065 non-null  string\n",
      " 60  neet                           5497065 non-null  Int8  \n",
      " 61  unknown                        5497065 non-null  Int8  \n",
      " 62  compulsory_school              5497065 non-null  Int8  \n",
      " 63  birth_year                     5497065 non-null  Int16 \n",
      " 64  birth_month                    5497065 non-null  Int8  \n",
      " 65  year                           5497065 non-null  Int16 \n",
      " 66  age                            5497065 non-null  Int8  \n",
      " 67  neet_ever                      5497065 non-null  Int8  \n",
      " 68  unknown_ever                   5497065 non-null  Int8  \n",
      " 69  unknown_currently              5497065 non-null  Int8  \n",
      " 70  compulsory_school_always       5497065 non-null  Int8  \n",
      "dtypes: Int16(10), Int32(1), Int64(1), Int8(33), object(2), string(24)\n",
      "memory usage: 1.6+ GB\n"
     ]
    }
   ],
   "source": [
    "df.info(show_counts=True, verbose=True)"
   ]
  },
  {
   "cell_type": "code",
   "execution_count": 4,
   "metadata": {},
   "outputs": [
    {
     "data": {
      "text/plain": [
       "<AxesSubplot:>"
      ]
     },
     "execution_count": 4,
     "metadata": {},
     "output_type": "execute_result"
    },
    {
     "data": {
      "image/png": "[encoded data removed]",
      "text/plain": [
       "<Figure size 640x480 with 1 Axes>"
      ]
     },
     "metadata": {},
     "output_type": "display_data"
    }
   ],
   "source": [
    "df.prob_scaling.hist()"
   ]
  },
  {
   "cell_type": "code",
   "execution_count": null,
   "metadata": {},
   "outputs": [],
   "source": []
  }
 ],
 "metadata": {
  "kernelspec": {
   "display_name": "Python 3.10.6 ('venv': venv)",
   "language": "python",
   "name": "python3"
  },
  "language_info": {
   "codemirror_mode": {
    "name": "ipython",
    "version": 3
   },
   "file_extension": ".py",
   "mimetype": "text/x-python",
   "name": "python",
   "nbconvert_exporter": "python",
   "pygments_lexer": "ipython3",
   "version": "3.10.6"
  },
  "orig_nbformat": 4,
  "vscode": {
   "interpreter": {
    "hash": "5a418b21f0d17c2ec31989708a1f57787df65983192566008e8e83f18903e4b0"
   }
  }
 },
 "nbformat": 4,
 "nbformat_minor": 2
}
